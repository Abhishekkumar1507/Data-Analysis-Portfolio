{
 "cells": [
  {
   "cell_type": "markdown",
   "metadata": {},
   "source": [
    "# Project - JSON API Currency Convertor"
   ]
  },
  {
   "cell_type": "markdown",
   "metadata": {},
   "source": [
    "## About Currency Convertor"
   ]
  },
  {
   "cell_type": "markdown",
   "metadata": {},
   "source": [
    "It will be a simple **real time** currency convertor which takes some inputs from user and provide them *exchange rates* for different currencies."
   ]
  },
  {
   "cell_type": "markdown",
   "metadata": {},
   "source": [
    "### User Interface of currency convertor"
   ]
  },
  {
   "cell_type": "markdown",
   "metadata": {},
   "source": [
    "Please enter the date (in the format 'yyyy-mm-dd' or 'latest'): **2023-04-17**     \n",
    "\n",
    "From which currency you want to convert: **USD**     \n",
    "\n",
    "To which currency you want to convert: **INR**  \n",
    "\n",
    "How much USD do you want to convert: **1**   \n",
    "\n",
    "**1.0** USD is equal to **82.00395 INR**, based upon exchange rates on **2023-04-17**"
   ]
  },
  {
   "cell_type": "markdown",
   "metadata": {},
   "source": [
    "### Pulling data from public APIs - GET request"
   ]
  },
  {
   "cell_type": "markdown",
   "metadata": {},
   "source": [
    "#### requests provides us with the capabilities of sending an HTTP request to a server"
   ]
  },
  {
   "cell_type": "code",
   "execution_count": 1,
   "metadata": {},
   "outputs": [],
   "source": [
    "import requests\n",
    "import json"
   ]
  },
  {
   "cell_type": "markdown",
   "metadata": {},
   "source": [
    "### Extracting data on currency exchange rates"
   ]
  },
  {
   "cell_type": "markdown",
   "metadata": {},
   "source": [
    "#### Sending a GET request"
   ]
  },
  {
   "cell_type": "code",
   "execution_count": 2,
   "metadata": {},
   "outputs": [],
   "source": [
    "# Define the base URL\n",
    "# Base URL: the part of the URL common to all requests, not containing the parameters\n",
    "base_url= \"https://api.apilayer.com/exchangerates_data\"\n",
    "latest_rate_url = base_url+\"/latest\"\n",
    "payload = {}\n",
    "headers= {\"apikey\": \"QTxigDhXa5pTpUtM5iByrfn0U5gzRolD\"}\n",
    "\n",
    "response = requests.get(latest_rate_url, headers=headers)"
   ]
  },
  {
   "cell_type": "markdown",
   "metadata": {},
   "source": [
    "#### Investigating the response"
   ]
  },
  {
   "cell_type": "code",
   "execution_count": 3,
   "metadata": {},
   "outputs": [
    {
     "data": {
      "text/plain": [
       "True"
      ]
     },
     "execution_count": 3,
     "metadata": {},
     "output_type": "execute_result"
    }
   ],
   "source": [
    "# Checking if the request went through ok\n",
    "response.ok"
   ]
  },
  {
   "cell_type": "code",
   "execution_count": 4,
   "metadata": {},
   "outputs": [
    {
     "data": {
      "text/plain": [
       "200"
      ]
     },
     "execution_count": 4,
     "metadata": {},
     "output_type": "execute_result"
    }
   ],
   "source": [
    "# Checking the status code of the response\n",
    "response.status_code"
   ]
  },
  {
   "cell_type": "markdown",
   "metadata": {},
   "source": [
    "### Handling the JSON"
   ]
  },
  {
   "cell_type": "code",
   "execution_count": 5,
   "metadata": {},
   "outputs": [],
   "source": [
    "# Requests has in-build method to directly convert the response to JSON format\n",
    "#response.json()"
   ]
  },
  {
   "cell_type": "code",
   "execution_count": 6,
   "metadata": {},
   "outputs": [
    {
     "data": {
      "text/plain": [
       "dict"
      ]
     },
     "execution_count": 6,
     "metadata": {},
     "output_type": "execute_result"
    }
   ],
   "source": [
    "# In Python, this JSON is stored as a dictionary\n",
    "type(response.json())"
   ]
  },
  {
   "cell_type": "markdown",
   "metadata": {},
   "source": [
    "### Incorporating parameters in the GET request"
   ]
  },
  {
   "cell_type": "code",
   "execution_count": 7,
   "metadata": {},
   "outputs": [
    {
     "data": {
      "text/plain": [
       "'https://api.apilayer.com/exchangerates_data/latest?symbols=USD,INR'"
      ]
     },
     "execution_count": 7,
     "metadata": {},
     "output_type": "execute_result"
    }
   ],
   "source": [
    "# https://.......?parl=value1&par2=value2\n",
    "# Request parameters are added to the URL after a question mark '?'\n",
    "# In this case, we request for the exchange rates of the US Dollar (USD) and India (INR) only\n",
    "param_url = latest_rate_url + \"?symbols=USD,INR\"\n",
    "param_url"
   ]
  },
  {
   "cell_type": "code",
   "execution_count": 8,
   "metadata": {},
   "outputs": [
    {
     "data": {
      "text/plain": [
       "200"
      ]
     },
     "execution_count": 8,
     "metadata": {},
     "output_type": "execute_result"
    }
   ],
   "source": [
    "# Making a request to the server with the new URL, containing the parameters\n",
    "response = requests.get(param_url,headers=headers,data=payload)\n",
    "response.status_code"
   ]
  },
  {
   "cell_type": "code",
   "execution_count": 9,
   "metadata": {},
   "outputs": [
    {
     "data": {
      "text/plain": [
       "{'success': True,\n",
       " 'timestamp': 1682654523,\n",
       " 'base': 'EUR',\n",
       " 'date': '2023-04-28',\n",
       " 'rates': {'USD': 1.101528, 'INR': 90.051546}}"
      ]
     },
     "execution_count": 9,
     "metadata": {},
     "output_type": "execute_result"
    }
   ],
   "source": [
    "# Saving the response data\n",
    "data = response.json()\n",
    "data"
   ]
  },
  {
   "cell_type": "code",
   "execution_count": 10,
   "metadata": {},
   "outputs": [
    {
     "data": {
      "text/plain": [
       "'EUR'"
      ]
     },
     "execution_count": 10,
     "metadata": {},
     "output_type": "execute_result"
    }
   ],
   "source": [
    "# 'data' is a dictionary\n",
    "data['base']"
   ]
  },
  {
   "cell_type": "code",
   "execution_count": 11,
   "metadata": {},
   "outputs": [
    {
     "data": {
      "text/plain": [
       "'2023-04-28'"
      ]
     },
     "execution_count": 11,
     "metadata": {},
     "output_type": "execute_result"
    }
   ],
   "source": [
    "data['date']"
   ]
  },
  {
   "cell_type": "code",
   "execution_count": 12,
   "metadata": {},
   "outputs": [
    {
     "data": {
      "text/plain": [
       "{'USD': 1.101528, 'INR': 90.051546}"
      ]
     },
     "execution_count": 12,
     "metadata": {},
     "output_type": "execute_result"
    }
   ],
   "source": [
    "data['rates']"
   ]
  },
  {
   "cell_type": "code",
   "execution_count": 13,
   "metadata": {},
   "outputs": [],
   "source": [
    "# As per the documentation of this API, we can change the base with the parameter 'base'\n",
    "param_url = latest_rate_url + \"?symbols=INR&base=USD\""
   ]
  },
  {
   "cell_type": "code",
   "execution_count": 14,
   "metadata": {},
   "outputs": [
    {
     "data": {
      "text/plain": [
       "{'success': True,\n",
       " 'timestamp': 1682654523,\n",
       " 'base': 'USD',\n",
       " 'date': '2023-04-28',\n",
       " 'rates': {'INR': 81.751501}}"
      ]
     },
     "execution_count": 14,
     "metadata": {},
     "output_type": "execute_result"
    }
   ],
   "source": [
    "# Sending a request and saving the response JSON, all at once\n",
    "data = requests.get(param_url,headers=headers).json()\n",
    "data"
   ]
  },
  {
   "cell_type": "code",
   "execution_count": 15,
   "metadata": {},
   "outputs": [
    {
     "data": {
      "text/plain": [
       "81.751501"
      ]
     },
     "execution_count": 15,
     "metadata": {},
     "output_type": "execute_result"
    }
   ],
   "source": [
    "usd_to_inr = data['rates']['INR']\n",
    "usd_to_inr"
   ]
  },
  {
   "cell_type": "markdown",
   "metadata": {},
   "source": [
    "### Obtaining historical exchange rates"
   ]
  },
  {
   "cell_type": "code",
   "execution_count": 16,
   "metadata": {},
   "outputs": [
    {
     "data": {
      "text/plain": [
       "'https://api.apilayer.com/exchangerates_data/2016-01-26'"
      ]
     },
     "execution_count": 16,
     "metadata": {},
     "output_type": "execute_result"
    }
   ],
   "source": [
    "# We can also ask for the exhange rates at a particular day in the past with '/DATE', where DATE is in the format YYYY-MM-DD\n",
    "historical_url = base_url + \"/2016-01-26\"\n",
    "historical_url"
   ]
  },
  {
   "cell_type": "code",
   "execution_count": 17,
   "metadata": {},
   "outputs": [
    {
     "data": {
      "text/plain": [
       "200"
      ]
     },
     "execution_count": 17,
     "metadata": {},
     "output_type": "execute_result"
    }
   ],
   "source": [
    "# Making the GET request\n",
    "response = requests.get(historical_url,headers=headers,data=payload)\n",
    "response.status_code"
   ]
  },
  {
   "cell_type": "code",
   "execution_count": 18,
   "metadata": {},
   "outputs": [],
   "source": [
    "# Pretty printing the data\n",
    "data = response.json()\n",
    "#print(json.dumps(data, indent=4))"
   ]
  },
  {
   "cell_type": "code",
   "execution_count": 19,
   "metadata": {},
   "outputs": [],
   "source": [
    "currencies=data[\"rates\"].keys()"
   ]
  },
  {
   "cell_type": "markdown",
   "metadata": {},
   "source": [
    "### Extracting data for a time period"
   ]
  },
  {
   "cell_type": "code",
   "execution_count": 20,
   "metadata": {},
   "outputs": [],
   "source": [
    "# The last feautre of this API is: giving the historical exchange rates for every day over some time period"
   ]
  },
  {
   "cell_type": "code",
   "execution_count": 21,
   "metadata": {},
   "outputs": [
    {
     "data": {
      "text/plain": [
       "'https://api.apilayer.com/exchangerates_data/timeseries?start_date=2023-03-17&end_date=2023-04-17&symbols=INR&base=USD'"
      ]
     },
     "execution_count": 21,
     "metadata": {},
     "output_type": "execute_result"
    }
   ],
   "source": [
    "# The URL for this request is formed with '/history' and the parameters 'start_at' and 'end_at'\n",
    "# time_period_url = base_url + \"/history\" + \"?start_at=2017-04-27&end_at=2018-04-26\" + \"&symbols=INR\"\n",
    "time_period_url = base_url + \"/timeseries\" + \"?start_date=2023-03-17&end_date=2023-04-17\" + \"&symbols=INR\"+\"&base=USD\"\n",
    "time_period_url"
   ]
  },
  {
   "cell_type": "code",
   "execution_count": 22,
   "metadata": {},
   "outputs": [],
   "source": [
    "# Extracting the response JSON object\n",
    "data = requests.get(time_period_url,headers=headers,data=payload).json()"
   ]
  },
  {
   "cell_type": "code",
   "execution_count": 23,
   "metadata": {
    "scrolled": true
   },
   "outputs": [
    {
     "name": "stdout",
     "output_type": "stream",
     "text": [
      "{\n",
      "    \"base\": \"USD\",\n",
      "    \"end_date\": \"2023-04-17\",\n",
      "    \"rates\": {\n",
      "        \"2023-03-17\": {\n",
      "            \"INR\": 82.53265\n",
      "        },\n",
      "        \"2023-03-18\": {\n",
      "            \"INR\": 82.540504\n",
      "        },\n",
      "        \"2023-03-19\": {\n",
      "            \"INR\": 82.540503\n",
      "        },\n",
      "        \"2023-03-20\": {\n",
      "            \"INR\": 82.52935\n",
      "        },\n",
      "        \"2023-03-21\": {\n",
      "            \"INR\": 82.67725\n",
      "        },\n",
      "        \"2023-03-22\": {\n",
      "            \"INR\": 82.52605\n",
      "        },\n",
      "        \"2023-03-23\": {\n",
      "            \"INR\": 82.26555\n",
      "        },\n",
      "        \"2023-03-24\": {\n",
      "            \"INR\": 82.34745\n",
      "        },\n",
      "        \"2023-03-25\": {\n",
      "            \"INR\": 82.34745\n",
      "        },\n",
      "        \"2023-03-26\": {\n",
      "            \"INR\": 82.33905\n",
      "        },\n",
      "        \"2023-03-27\": {\n",
      "            \"INR\": 82.21515\n",
      "        },\n",
      "        \"2023-03-28\": {\n",
      "            \"INR\": 82.16455\n",
      "        },\n",
      "        \"2023-03-29\": {\n",
      "            \"INR\": 82.25565\n",
      "        },\n",
      "        \"2023-03-30\": {\n",
      "            \"INR\": 82.10075\n",
      "        },\n",
      "        \"2023-03-31\": {\n",
      "            \"INR\": 82.18075\n",
      "        },\n",
      "        \"2023-04-01\": {\n",
      "            \"INR\": 82.18075\n",
      "        },\n",
      "        \"2023-04-02\": {\n",
      "            \"INR\": 82.18505\n",
      "        },\n",
      "        \"2023-04-03\": {\n",
      "            \"INR\": 82.14115\n",
      "        },\n",
      "        \"2023-04-04\": {\n",
      "            \"INR\": 82.11505\n",
      "        },\n",
      "        \"2023-04-05\": {\n",
      "            \"INR\": 81.95025\n",
      "        },\n",
      "        \"2023-04-06\": {\n",
      "            \"INR\": 81.83155\n",
      "        },\n",
      "        \"2023-04-07\": {\n",
      "            \"INR\": 81.87525\n",
      "        },\n",
      "        \"2023-04-08\": {\n",
      "            \"INR\": 81.840504\n",
      "        },\n",
      "        \"2023-04-09\": {\n",
      "            \"INR\": 81.88505\n",
      "        },\n",
      "        \"2023-04-10\": {\n",
      "            \"INR\": 81.98415\n",
      "        },\n",
      "        \"2023-04-11\": {\n",
      "            \"INR\": 82.07035\n",
      "        },\n",
      "        \"2023-04-12\": {\n",
      "            \"INR\": 81.96085\n",
      "        },\n",
      "        \"2023-04-13\": {\n",
      "            \"INR\": 81.68095\n",
      "        },\n",
      "        \"2023-04-14\": {\n",
      "            \"INR\": 81.84625\n",
      "        },\n",
      "        \"2023-04-15\": {\n",
      "            \"INR\": 81.845504\n",
      "        },\n",
      "        \"2023-04-16\": {\n",
      "            \"INR\": 81.84505\n",
      "        },\n",
      "        \"2023-04-17\": {\n",
      "            \"INR\": 82.00395\n",
      "        }\n",
      "    },\n",
      "    \"start_date\": \"2023-03-17\",\n",
      "    \"success\": true,\n",
      "    \"timeseries\": true\n",
      "}\n"
     ]
    }
   ],
   "source": [
    "# We can use the 'sort_keys' parameter of the json.dumps() method to order these dates chronologically\n",
    "print(json.dumps(data, indent=4, sort_keys=True))"
   ]
  },
  {
   "cell_type": "markdown",
   "metadata": {},
   "source": [
    "### Creating a simple currency convertor"
   ]
  },
  {
   "cell_type": "code",
   "execution_count": 24,
   "metadata": {},
   "outputs": [],
   "source": [
    "# We can use this data which is provided from this API to create a simple currency convertor"
   ]
  },
  {
   "cell_type": "code",
   "execution_count": 25,
   "metadata": {},
   "outputs": [
    {
     "data": {
      "text/plain": [
       "dict_keys(['AED', 'AFN', 'ALL', 'AMD', 'ANG', 'AOA', 'ARS', 'AUD', 'AWG', 'AZN', 'BAM', 'BBD', 'BDT', 'BGN', 'BHD', 'BIF', 'BMD', 'BND', 'BOB', 'BRL', 'BSD', 'BTC', 'BTN', 'BWP', 'BYR', 'BZD', 'CAD', 'CDF', 'CHF', 'CLF', 'CLP', 'CNY', 'COP', 'CRC', 'CUC', 'CUP', 'CVE', 'CZK', 'DJF', 'DKK', 'DOP', 'DZD', 'EGP', 'ERN', 'ETB', 'EUR', 'FJD', 'FKP', 'GBP', 'GEL', 'GGP', 'GHS', 'GIP', 'GMD', 'GNF', 'GTQ', 'GYD', 'HKD', 'HNL', 'HRK', 'HTG', 'HUF', 'IDR', 'ILS', 'IMP', 'INR', 'IQD', 'IRR', 'ISK', 'JEP', 'JMD', 'JOD', 'JPY', 'KES', 'KGS', 'KHR', 'KMF', 'KPW', 'KRW', 'KWD', 'KYD', 'KZT', 'LAK', 'LBP', 'LKR', 'LRD', 'LSL', 'LTL', 'LVL', 'LYD', 'MAD', 'MDL', 'MGA', 'MKD', 'MMK', 'MNT', 'MOP', 'MRO', 'MUR', 'MVR', 'MWK', 'MXN', 'MYR', 'MZN', 'NAD', 'NGN', 'NIO', 'NOK', 'NPR', 'NZD', 'OMR', 'PAB', 'PEN', 'PGK', 'PHP', 'PKR', 'PLN', 'PYG', 'QAR', 'RON', 'RSD', 'RUB', 'RWF', 'SAR', 'SBD', 'SCR', 'SDG', 'SEK', 'SGD', 'SHP', 'SLL', 'SOS', 'SRD', 'STD', 'SVC', 'SYP', 'SZL', 'THB', 'TJS', 'TMT', 'TND', 'TOP', 'TRY', 'TTD', 'TWD', 'TZS', 'UAH', 'UGX', 'USD', 'UYU', 'UZS', 'VEF', 'VND', 'VUV', 'WST', 'XAF', 'XAG', 'XAU', 'XCD', 'XDR', 'XOF', 'XPF', 'YER', 'ZAR', 'ZMK', 'ZMW', 'ZWL'])"
      ]
     },
     "execution_count": 25,
     "metadata": {},
     "output_type": "execute_result"
    }
   ],
   "source": [
    "currencies"
   ]
  },
  {
   "cell_type": "code",
   "execution_count": 26,
   "metadata": {},
   "outputs": [
    {
     "name": "stdout",
     "output_type": "stream",
     "text": [
      "Please enter the date (in the format 'yyyy-mm-dd' or 'latest'): 2023-04-20\n",
      "From which currency you want to convert: USD\n",
      "To which currency you want to convert: INR\n",
      "How much USD do you want to convert: 10\n",
      "\n",
      "10.0 USD is equal to 821.4114999999999 INR, based upon exchange rates on 2023-04-20\n"
     ]
    }
   ],
   "source": [
    "# Gathering input parameters from the user\n",
    "date = input(\"Please enter the date (in the format 'yyyy-mm-dd' or 'latest'): \")\n",
    "base = input(\"From which currency you want to convert: \")\n",
    "curr = input(\"To which currency you want to convert: \")\n",
    "quan = float(input(\"How much {} do you want to convert: \".format(base)))\n",
    "\n",
    "# Constructing the URL based on the user parameters and sending a request to the server\n",
    "url = base_url + \"/\" + date  + \"?symbols=\" + curr + \"&base=\" + base\n",
    "response = requests.get(url,headers=headers)\n",
    "\n",
    "# Displaying the error message, if something went wrong\n",
    "# For successful requests: extract the relevant data and calculate the result\n",
    "# Display the result to the user\n",
    "if(response.ok is False):\n",
    "    print(\"\\nError {}:\".format(response.status_code))\n",
    "    print(response.json()['error'])\n",
    "\n",
    "else:\n",
    "    data = response.json()\n",
    "    rate = data['rates'][curr]\n",
    "    \n",
    "    result = quan*rate\n",
    "    \n",
    "    print(\"\\n{0} {1} is equal to {2} {3}, based upon exchange rates on {4}\".format(quan,base,result,curr,data['date']))\n",
    "\n",
    "    \n"
   ]
  },
  {
   "cell_type": "code",
   "execution_count": null,
   "metadata": {},
   "outputs": [],
   "source": []
  }
 ],
 "metadata": {
  "kernelspec": {
   "display_name": "Python 3",
   "language": "python",
   "name": "python3"
  },
  "language_info": {
   "codemirror_mode": {
    "name": "ipython",
    "version": 3
   },
   "file_extension": ".py",
   "mimetype": "text/x-python",
   "name": "python",
   "nbconvert_exporter": "python",
   "pygments_lexer": "ipython3",
   "version": "3.8.5"
  }
 },
 "nbformat": 4,
 "nbformat_minor": 2
}
