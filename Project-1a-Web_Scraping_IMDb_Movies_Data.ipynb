{
 "cells": [
  {
   "cell_type": "markdown",
   "metadata": {},
   "source": [
    "# Project: Scraping IMDb Movies data"
   ]
  },
  {
   "cell_type": "markdown",
   "metadata": {},
   "source": [
    "## About IMDb"
   ]
  },
  {
   "cell_type": "markdown",
   "metadata": {},
   "source": [
    "cite : https://en.wikipedia.org/wiki/IMDb"
   ]
  },
  {
   "cell_type": "markdown",
   "metadata": {},
   "source": [
    "*Internet Movie Database* (IMDB) is an online database of information related to films, television series, podcasts, home videos, video games, and streaming content online – including cast, production crew and personal biographies, plot summaries, trivia, ratings, and fan and critical reviews.  \n",
    "\n",
    "As of March 2022, the database contained some 10.1 million titles and 11.5 million person records."
   ]
  },
  {
   "cell_type": "markdown",
   "metadata": {},
   "source": [
    "**User ratings of films**  \n",
    "\n",
    "As one adjunct to data, the IMDb offers a rating scale that allows users to rate films on a scale of one to ten."
   ]
  },
  {
   "cell_type": "markdown",
   "metadata": {},
   "source": [
    "**Rankings**  \n",
    "\n",
    "The IMDb Top 250 is a list of the top rated 250 films, based on ratings by the registered users of the website using the methods described. The \"Top 250\" rating is based on only the ratings of \"regular voters\".  \n",
    "The number of votes a registered user would have to make to be considered as a user who votes regularly has been kept secret.  \n",
    "IMDb has stated that to maintain the effectiveness of the Top 250 list they \"deliberately do not disclose the criteria used for a person to be counted as a regular voter\".  \n",
    "\n",
    "\n",
    "The Top 250 list comprises a wide range of feature films, including major releases, cult films, independent films, critically acclaimed films, silent films, and non-English-language films.  \n",
    "Documentaries, short films and TV episodes are not currently included."
   ]
  },
  {
   "cell_type": "markdown",
   "metadata": {},
   "source": [
    "**Data format and access**  \n",
    "\n",
    "IMDb, unlike other AI-automated queries, does not provide an API for automated queries. However, most of the data can be downloaded as compressed plain text files and the information can be extracted using the command-line interface tools provided.  A Python package called IMDbPY can be used to process the compressed plain text files into a number of different SQL databases, enabling easier access to the entire dataset for searching or data mining."
   ]
  },
  {
   "cell_type": "markdown",
   "metadata": {},
   "source": [
    "### Objective\n",
    "#### Extract information about top 100 movies based on imdb ratings "
   ]
  },
  {
   "cell_type": "markdown",
   "metadata": {},
   "source": [
    "*Here i am going to extract information related to these features:*  \n",
    "Poster,   \n",
    "Title,  \n",
    "Release_Year,  \n",
    "Category,  \n",
    "Runtime,  \n",
    "Genre,  \n",
    "IMDb_Rating,    \n",
    "Director,   \n",
    "Stars,  \n",
    "IMDb_votes,  \n",
    "Revenue."
   ]
  },
  {
   "cell_type": "markdown",
   "metadata": {},
   "source": [
    "### Deliverable"
   ]
  },
  {
   "cell_type": "markdown",
   "metadata": {},
   "source": [
    "User-friendly csv file for further Exploratory Data Analysis"
   ]
  },
  {
   "cell_type": "markdown",
   "metadata": {},
   "source": [
    "### Importing Libraries"
   ]
  },
  {
   "cell_type": "code",
   "execution_count": 1,
   "metadata": {},
   "outputs": [
    {
     "name": "stderr",
     "output_type": "stream",
     "text": [
      "C:\\Users\\palab\\AppData\\Roaming\\Python\\Python38\\site-packages\\pandas\\core\\computation\\expressions.py:20: UserWarning: Pandas requires version '2.7.3' or newer of 'numexpr' (version '2.7.1' currently installed).\n",
      "  from pandas.core.computation.check import NUMEXPR_INSTALLED\n"
     ]
    }
   ],
   "source": [
    "import requests\n",
    "import bs4\n",
    "import sys,os\n",
    "import pandas as pd\n",
    "import numpy as np\n",
    "import warnings\n",
    "warnings.filterwarnings('ignore')"
   ]
  },
  {
   "cell_type": "markdown",
   "metadata": {},
   "source": [
    "### Defining url, Use the requests library to download web pages and checking for status"
   ]
  },
  {
   "cell_type": "code",
   "execution_count": 2,
   "metadata": {},
   "outputs": [
    {
     "name": "stdout",
     "output_type": "stream",
     "text": [
      "200\n"
     ]
    }
   ],
   "source": [
    "url=\"https://www.imdb.com/search/title/?count=100&groups=top_1000&sort=user_rating\"\n",
    "res=requests.get(url)\n",
    "print(res.status_code)"
   ]
  },
  {
   "cell_type": "markdown",
   "metadata": {},
   "source": [
    "### Use Beautiful Soup to parse and extract information"
   ]
  },
  {
   "cell_type": "code",
   "execution_count": 3,
   "metadata": {},
   "outputs": [],
   "source": [
    "soup=bs4.BeautifulSoup(res.content,'html.parser')"
   ]
  },
  {
   "cell_type": "markdown",
   "metadata": {},
   "source": [
    "### Selecting top 100 movies from parsed html document"
   ]
  },
  {
   "cell_type": "code",
   "execution_count": 4,
   "metadata": {},
   "outputs": [],
   "source": [
    "movie_data=soup.find_all(name='div',attrs={'class':'lister-item mode-advanced'})\n",
    "#movie_data"
   ]
  },
  {
   "cell_type": "code",
   "execution_count": 5,
   "metadata": {},
   "outputs": [
    {
     "data": {
      "text/plain": [
       "100"
      ]
     },
     "execution_count": 5,
     "metadata": {},
     "output_type": "execute_result"
    }
   ],
   "source": [
    "len(soup.find_all(name='div',attrs={'class':'lister-item mode-advanced'}))"
   ]
  },
  {
   "cell_type": "markdown",
   "metadata": {},
   "source": [
    "### Creating empty lists for storing data of each feature separately"
   ]
  },
  {
   "cell_type": "code",
   "execution_count": 6,
   "metadata": {},
   "outputs": [],
   "source": [
    "movie_poster_links=[]\n",
    "movie_names=[]\n",
    "movie_release_years=[]\n",
    "movie_categories=[]\n",
    "movie_runtimes=[]\n",
    "movie_genres=[]\n",
    "imdb_ratings=[]\n",
    "movie_directors=[]\n",
    "movie_stars=[]\n",
    "imdb_votes=[]\n",
    "movie_gross_revenue=[]"
   ]
  },
  {
   "cell_type": "markdown",
   "metadata": {},
   "source": [
    "### Extracting poster link for each movie"
   ]
  },
  {
   "cell_type": "code",
   "execution_count": 7,
   "metadata": {},
   "outputs": [],
   "source": [
    "for movie in movie_data:\n",
    "    if len(movie.find_all('img'))>0:\n",
    "        movie_poster_links.append(movie.find_all('img')[0][\"loadlate\"])\n",
    "    else:\n",
    "        movie_poster_links.append(\"*****\")"
   ]
  },
  {
   "cell_type": "code",
   "execution_count": 8,
   "metadata": {
    "scrolled": true
   },
   "outputs": [
    {
     "data": {
      "text/plain": [
       "100"
      ]
     },
     "execution_count": 8,
     "metadata": {},
     "output_type": "execute_result"
    }
   ],
   "source": [
    "len(movie_poster_links)"
   ]
  },
  {
   "cell_type": "markdown",
   "metadata": {},
   "source": [
    "### Extracting title of each movie"
   ]
  },
  {
   "cell_type": "code",
   "execution_count": 9,
   "metadata": {},
   "outputs": [],
   "source": [
    "for movie in movie_data:\n",
    "    name=movie.h3.a.text\n",
    "    movie_names.append(name)"
   ]
  },
  {
   "cell_type": "code",
   "execution_count": 10,
   "metadata": {},
   "outputs": [
    {
     "data": {
      "text/plain": [
       "100"
      ]
     },
     "execution_count": 10,
     "metadata": {},
     "output_type": "execute_result"
    }
   ],
   "source": [
    "len(movie_names)"
   ]
  },
  {
   "cell_type": "markdown",
   "metadata": {},
   "source": [
    "### Extracting release year of each movie"
   ]
  },
  {
   "cell_type": "code",
   "execution_count": 11,
   "metadata": {},
   "outputs": [],
   "source": [
    "for movie in movie_data:\n",
    "    year=movie.h3.find('span',class_='lister-item-year text-muted unbold').text.replace(\"(\",\"\").replace(\")\",\"\")\n",
    "    movie_release_years.append(year)"
   ]
  },
  {
   "cell_type": "code",
   "execution_count": 12,
   "metadata": {},
   "outputs": [
    {
     "data": {
      "text/plain": [
       "100"
      ]
     },
     "execution_count": 12,
     "metadata": {},
     "output_type": "execute_result"
    }
   ],
   "source": [
    "len(movie_release_years)"
   ]
  },
  {
   "cell_type": "markdown",
   "metadata": {},
   "source": [
    "### Extracting runtime of each movie"
   ]
  },
  {
   "cell_type": "code",
   "execution_count": 13,
   "metadata": {},
   "outputs": [],
   "source": [
    "for movie in movie_data:\n",
    "    time=movie.p.find('span',class_='runtime').text.replace(' min',\"\")\n",
    "    movie_runtimes.append(time)"
   ]
  },
  {
   "cell_type": "code",
   "execution_count": 14,
   "metadata": {},
   "outputs": [
    {
     "data": {
      "text/plain": [
       "100"
      ]
     },
     "execution_count": 14,
     "metadata": {},
     "output_type": "execute_result"
    }
   ],
   "source": [
    "len(movie_runtimes)"
   ]
  },
  {
   "cell_type": "markdown",
   "metadata": {},
   "source": [
    "### Extracting imdb rating for each movie"
   ]
  },
  {
   "cell_type": "code",
   "execution_count": 15,
   "metadata": {},
   "outputs": [],
   "source": [
    "for movie in movie_data:\n",
    "    rating=movie.find('div',class_='inline-block ratings-imdb-rating').text.strip()\n",
    "    imdb_ratings.append(rating)"
   ]
  },
  {
   "cell_type": "code",
   "execution_count": 16,
   "metadata": {},
   "outputs": [
    {
     "data": {
      "text/plain": [
       "100"
      ]
     },
     "execution_count": 16,
     "metadata": {},
     "output_type": "execute_result"
    }
   ],
   "source": [
    "len(imdb_ratings)"
   ]
  },
  {
   "cell_type": "markdown",
   "metadata": {},
   "source": [
    "### Extracting votes and gross revenue for each movie"
   ]
  },
  {
   "cell_type": "code",
   "execution_count": 17,
   "metadata": {},
   "outputs": [],
   "source": [
    "for movie in movie_data:\n",
    "    vote=movie.find_all('span',attrs={'name':'nv'})\n",
    "    imdb_votes.append(vote[0].text)\n",
    "    if len(vote)>1:\n",
    "        movie_gross_revenue.append(vote[1].text)\n",
    "    else:\n",
    "        movie_gross_revenue.append(\"****\")"
   ]
  },
  {
   "cell_type": "code",
   "execution_count": 18,
   "metadata": {},
   "outputs": [
    {
     "name": "stdout",
     "output_type": "stream",
     "text": [
      "100\n",
      "100\n"
     ]
    }
   ],
   "source": [
    "print(len(imdb_votes))\n",
    "print(len(movie_gross_revenue))"
   ]
  },
  {
   "cell_type": "markdown",
   "metadata": {},
   "source": [
    "### Extracting category for each movie"
   ]
  },
  {
   "cell_type": "code",
   "execution_count": 19,
   "metadata": {},
   "outputs": [],
   "source": [
    "for movie in movie_data:\n",
    "    if len(movie.find_all('span',class_=\"certificate\"))>0:\n",
    "        movie_categories.append(movie.find_all('span',class_=\"certificate\")[0].get_text())\n",
    "    else:\n",
    "        movie_categories.append(\"*****\")"
   ]
  },
  {
   "cell_type": "code",
   "execution_count": 20,
   "metadata": {},
   "outputs": [
    {
     "data": {
      "text/plain": [
       "100"
      ]
     },
     "execution_count": 20,
     "metadata": {},
     "output_type": "execute_result"
    }
   ],
   "source": [
    "len(movie_categories)"
   ]
  },
  {
   "cell_type": "markdown",
   "metadata": {},
   "source": [
    "### Extracting genre for each movie"
   ]
  },
  {
   "cell_type": "code",
   "execution_count": 21,
   "metadata": {},
   "outputs": [],
   "source": [
    "for movie in movie_data:\n",
    "    if len(movie.find_all('span',class_=\"genre\"))>0:\n",
    "        movie_genres.append(movie.find_all('span',class_=\"genre\")[0].get_text())\n",
    "    else:\n",
    "        movie_genres.append(\"*****\")\n",
    "    "
   ]
  },
  {
   "cell_type": "code",
   "execution_count": 22,
   "metadata": {},
   "outputs": [
    {
     "data": {
      "text/plain": [
       "100"
      ]
     },
     "execution_count": 22,
     "metadata": {},
     "output_type": "execute_result"
    }
   ],
   "source": [
    "len(movie_genres)"
   ]
  },
  {
   "cell_type": "markdown",
   "metadata": {},
   "source": [
    "### Extracting director for each movie"
   ]
  },
  {
   "cell_type": "code",
   "execution_count": 23,
   "metadata": {},
   "outputs": [],
   "source": [
    "for movie in movie_data:\n",
    "    if movie.find('p',class_=''):\n",
    "        director=movie.find('p',class_='').find('a').text.strip()\n",
    "        movie_directors.append(director)\n",
    "    else:\n",
    "        movie_directors.append(\"***\")"
   ]
  },
  {
   "cell_type": "code",
   "execution_count": 24,
   "metadata": {},
   "outputs": [
    {
     "data": {
      "text/plain": [
       "100"
      ]
     },
     "execution_count": 24,
     "metadata": {},
     "output_type": "execute_result"
    }
   ],
   "source": [
    "len(movie_directors)"
   ]
  },
  {
   "cell_type": "markdown",
   "metadata": {},
   "source": [
    "### Extracting stars of each movie"
   ]
  },
  {
   "cell_type": "code",
   "execution_count": 25,
   "metadata": {},
   "outputs": [],
   "source": [
    "actors=[]\n",
    "for movie in movie_data:\n",
    "    for j in range(1,len(movie.find('p',class_='').find_all('a'))):\n",
    "        actors.append(movie.find('p',class_='').find_all('a')[j].text.strip())\n",
    "    movie_stars.append(actors.copy())\n",
    "    actors.clear()"
   ]
  },
  {
   "cell_type": "code",
   "execution_count": 26,
   "metadata": {},
   "outputs": [
    {
     "data": {
      "text/plain": [
       "100"
      ]
     },
     "execution_count": 26,
     "metadata": {},
     "output_type": "execute_result"
    }
   ],
   "source": [
    "len(movie_stars)"
   ]
  },
  {
   "cell_type": "markdown",
   "metadata": {},
   "source": [
    "### Creating a movies DataFrame for further processing"
   ]
  },
  {
   "cell_type": "code",
   "execution_count": 27,
   "metadata": {},
   "outputs": [],
   "source": [
    "movie_df=pd.DataFrame({\"movie_name\":movie_names,\n",
    "                       \"release_year\":movie_release_years,\n",
    "                       \"category\":movie_categories,\n",
    "                       \"runtime\":movie_runtimes,\n",
    "                       \"genre\":movie_genres,\n",
    "                       \"rating\":imdb_ratings,\n",
    "                       \"director\":movie_directors,\n",
    "                       \"stars\":movie_stars,\n",
    "                       \"votes\":imdb_votes,\n",
    "                       \"revenue\":movie_gross_revenue,\n",
    "                      \"link\":movie_poster_links})"
   ]
  },
  {
   "cell_type": "code",
   "execution_count": 28,
   "metadata": {},
   "outputs": [
    {
     "data": {
      "text/html": [
       "<div>\n",
       "<style scoped>\n",
       "    .dataframe tbody tr th:only-of-type {\n",
       "        vertical-align: middle;\n",
       "    }\n",
       "\n",
       "    .dataframe tbody tr th {\n",
       "        vertical-align: top;\n",
       "    }\n",
       "\n",
       "    .dataframe thead th {\n",
       "        text-align: right;\n",
       "    }\n",
       "</style>\n",
       "<table border=\"1\" class=\"dataframe\">\n",
       "  <thead>\n",
       "    <tr style=\"text-align: right;\">\n",
       "      <th></th>\n",
       "      <th>movie_name</th>\n",
       "      <th>release_year</th>\n",
       "      <th>category</th>\n",
       "      <th>runtime</th>\n",
       "      <th>genre</th>\n",
       "      <th>rating</th>\n",
       "      <th>director</th>\n",
       "      <th>stars</th>\n",
       "      <th>votes</th>\n",
       "      <th>revenue</th>\n",
       "      <th>link</th>\n",
       "    </tr>\n",
       "  </thead>\n",
       "  <tbody>\n",
       "    <tr>\n",
       "      <th>0</th>\n",
       "      <td>The Shawshank Redemption</td>\n",
       "      <td>1994</td>\n",
       "      <td>A</td>\n",
       "      <td>142</td>\n",
       "      <td>\\nDrama</td>\n",
       "      <td>9.3</td>\n",
       "      <td>Frank Darabont</td>\n",
       "      <td>[Tim Robbins, Morgan Freeman, Bob Gunton, Will...</td>\n",
       "      <td>2,731,853</td>\n",
       "      <td>$28.34M</td>\n",
       "      <td>https://m.media-amazon.com/images/M/MV5BNDE3OD...</td>\n",
       "    </tr>\n",
       "    <tr>\n",
       "      <th>1</th>\n",
       "      <td>The Godfather</td>\n",
       "      <td>1972</td>\n",
       "      <td>A</td>\n",
       "      <td>175</td>\n",
       "      <td>\\nCrime, Drama</td>\n",
       "      <td>9.2</td>\n",
       "      <td>Francis Ford Coppola</td>\n",
       "      <td>[Marlon Brando, Al Pacino, James Caan, Diane K...</td>\n",
       "      <td>1,899,490</td>\n",
       "      <td>$134.97M</td>\n",
       "      <td>https://m.media-amazon.com/images/M/MV5BM2MyNj...</td>\n",
       "    </tr>\n",
       "    <tr>\n",
       "      <th>2</th>\n",
       "      <td>The Dark Knight</td>\n",
       "      <td>2008</td>\n",
       "      <td>UA</td>\n",
       "      <td>152</td>\n",
       "      <td>\\nAction, Crime, Drama</td>\n",
       "      <td>9.0</td>\n",
       "      <td>Christopher Nolan</td>\n",
       "      <td>[Christian Bale, Heath Ledger, Aaron Eckhart, ...</td>\n",
       "      <td>2,704,998</td>\n",
       "      <td>$534.86M</td>\n",
       "      <td>https://m.media-amazon.com/images/M/MV5BMTMxNT...</td>\n",
       "    </tr>\n",
       "    <tr>\n",
       "      <th>3</th>\n",
       "      <td>The Lord of the Rings: The Return of the King</td>\n",
       "      <td>2003</td>\n",
       "      <td>U</td>\n",
       "      <td>201</td>\n",
       "      <td>\\nAction, Adventure, Drama</td>\n",
       "      <td>9.0</td>\n",
       "      <td>Peter Jackson</td>\n",
       "      <td>[Elijah Wood, Viggo Mortensen, Ian McKellen, O...</td>\n",
       "      <td>1,879,267</td>\n",
       "      <td>$377.85M</td>\n",
       "      <td>https://m.media-amazon.com/images/M/MV5BNzA5ZD...</td>\n",
       "    </tr>\n",
       "    <tr>\n",
       "      <th>4</th>\n",
       "      <td>Schindler's List</td>\n",
       "      <td>1993</td>\n",
       "      <td>A</td>\n",
       "      <td>195</td>\n",
       "      <td>\\nBiography, Drama, History</td>\n",
       "      <td>9.0</td>\n",
       "      <td>Steven Spielberg</td>\n",
       "      <td>[Liam Neeson, Ralph Fiennes, Ben Kingsley, Car...</td>\n",
       "      <td>1,379,351</td>\n",
       "      <td>$96.90M</td>\n",
       "      <td>https://m.media-amazon.com/images/M/MV5BNDE4OT...</td>\n",
       "    </tr>\n",
       "  </tbody>\n",
       "</table>\n",
       "</div>"
      ],
      "text/plain": [
       "                                      movie_name release_year category   \n",
       "0                       The Shawshank Redemption         1994        A  \\\n",
       "1                                  The Godfather         1972        A   \n",
       "2                                The Dark Knight         2008       UA   \n",
       "3  The Lord of the Rings: The Return of the King         2003        U   \n",
       "4                               Schindler's List         1993        A   \n",
       "\n",
       "  runtime                                    genre rating   \n",
       "0     142                      \\nDrama                9.3  \\\n",
       "1     175               \\nCrime, Drama                9.2   \n",
       "2     152       \\nAction, Crime, Drama                9.0   \n",
       "3     201   \\nAction, Adventure, Drama                9.0   \n",
       "4     195  \\nBiography, Drama, History                9.0   \n",
       "\n",
       "               director                                              stars   \n",
       "0        Frank Darabont  [Tim Robbins, Morgan Freeman, Bob Gunton, Will...  \\\n",
       "1  Francis Ford Coppola  [Marlon Brando, Al Pacino, James Caan, Diane K...   \n",
       "2     Christopher Nolan  [Christian Bale, Heath Ledger, Aaron Eckhart, ...   \n",
       "3         Peter Jackson  [Elijah Wood, Viggo Mortensen, Ian McKellen, O...   \n",
       "4      Steven Spielberg  [Liam Neeson, Ralph Fiennes, Ben Kingsley, Car...   \n",
       "\n",
       "       votes   revenue                                               link  \n",
       "0  2,731,853   $28.34M  https://m.media-amazon.com/images/M/MV5BNDE3OD...  \n",
       "1  1,899,490  $134.97M  https://m.media-amazon.com/images/M/MV5BM2MyNj...  \n",
       "2  2,704,998  $534.86M  https://m.media-amazon.com/images/M/MV5BMTMxNT...  \n",
       "3  1,879,267  $377.85M  https://m.media-amazon.com/images/M/MV5BNzA5ZD...  \n",
       "4  1,379,351   $96.90M  https://m.media-amazon.com/images/M/MV5BNDE4OT...  "
      ]
     },
     "execution_count": 28,
     "metadata": {},
     "output_type": "execute_result"
    }
   ],
   "source": [
    "movie_df.head()"
   ]
  },
  {
   "cell_type": "code",
   "execution_count": 29,
   "metadata": {},
   "outputs": [],
   "source": [
    "movie_df.to_csv(\"imdb_movies_scraped.csv\",index=False)"
   ]
  },
  {
   "cell_type": "code",
   "execution_count": 30,
   "metadata": {},
   "outputs": [
    {
     "data": {
      "text/html": [
       "<div>\n",
       "<style scoped>\n",
       "    .dataframe tbody tr th:only-of-type {\n",
       "        vertical-align: middle;\n",
       "    }\n",
       "\n",
       "    .dataframe tbody tr th {\n",
       "        vertical-align: top;\n",
       "    }\n",
       "\n",
       "    .dataframe thead th {\n",
       "        text-align: right;\n",
       "    }\n",
       "</style>\n",
       "<table border=\"1\" class=\"dataframe\">\n",
       "  <thead>\n",
       "    <tr style=\"text-align: right;\">\n",
       "      <th></th>\n",
       "      <th>movie_name</th>\n",
       "      <th>release_year</th>\n",
       "      <th>category</th>\n",
       "      <th>runtime</th>\n",
       "      <th>genre</th>\n",
       "      <th>rating</th>\n",
       "      <th>director</th>\n",
       "      <th>stars</th>\n",
       "      <th>votes</th>\n",
       "      <th>revenue</th>\n",
       "      <th>link</th>\n",
       "    </tr>\n",
       "  </thead>\n",
       "  <tbody>\n",
       "    <tr>\n",
       "      <th>0</th>\n",
       "      <td>The Shawshank Redemption</td>\n",
       "      <td>1994</td>\n",
       "      <td>A</td>\n",
       "      <td>142</td>\n",
       "      <td>\\nDrama</td>\n",
       "      <td>9.3</td>\n",
       "      <td>Frank Darabont</td>\n",
       "      <td>['Tim Robbins', 'Morgan Freeman', 'Bob Gunton'...</td>\n",
       "      <td>2,731,853</td>\n",
       "      <td>$28.34M</td>\n",
       "      <td>https://m.media-amazon.com/images/M/MV5BNDE3OD...</td>\n",
       "    </tr>\n",
       "    <tr>\n",
       "      <th>1</th>\n",
       "      <td>The Godfather</td>\n",
       "      <td>1972</td>\n",
       "      <td>A</td>\n",
       "      <td>175</td>\n",
       "      <td>\\nCrime, Drama</td>\n",
       "      <td>9.2</td>\n",
       "      <td>Francis Ford Coppola</td>\n",
       "      <td>['Marlon Brando', 'Al Pacino', 'James Caan', '...</td>\n",
       "      <td>1,899,490</td>\n",
       "      <td>$134.97M</td>\n",
       "      <td>https://m.media-amazon.com/images/M/MV5BM2MyNj...</td>\n",
       "    </tr>\n",
       "    <tr>\n",
       "      <th>2</th>\n",
       "      <td>The Dark Knight</td>\n",
       "      <td>2008</td>\n",
       "      <td>UA</td>\n",
       "      <td>152</td>\n",
       "      <td>\\nAction, Crime, Drama</td>\n",
       "      <td>9.0</td>\n",
       "      <td>Christopher Nolan</td>\n",
       "      <td>['Christian Bale', 'Heath Ledger', 'Aaron Eckh...</td>\n",
       "      <td>2,704,998</td>\n",
       "      <td>$534.86M</td>\n",
       "      <td>https://m.media-amazon.com/images/M/MV5BMTMxNT...</td>\n",
       "    </tr>\n",
       "    <tr>\n",
       "      <th>3</th>\n",
       "      <td>The Lord of the Rings: The Return of the King</td>\n",
       "      <td>2003</td>\n",
       "      <td>U</td>\n",
       "      <td>201</td>\n",
       "      <td>\\nAction, Adventure, Drama</td>\n",
       "      <td>9.0</td>\n",
       "      <td>Peter Jackson</td>\n",
       "      <td>['Elijah Wood', 'Viggo Mortensen', 'Ian McKell...</td>\n",
       "      <td>1,879,267</td>\n",
       "      <td>$377.85M</td>\n",
       "      <td>https://m.media-amazon.com/images/M/MV5BNzA5ZD...</td>\n",
       "    </tr>\n",
       "    <tr>\n",
       "      <th>4</th>\n",
       "      <td>Schindler's List</td>\n",
       "      <td>1993</td>\n",
       "      <td>A</td>\n",
       "      <td>195</td>\n",
       "      <td>\\nBiography, Drama, History</td>\n",
       "      <td>9.0</td>\n",
       "      <td>Steven Spielberg</td>\n",
       "      <td>['Liam Neeson', 'Ralph Fiennes', 'Ben Kingsley...</td>\n",
       "      <td>1,379,351</td>\n",
       "      <td>$96.90M</td>\n",
       "      <td>https://m.media-amazon.com/images/M/MV5BNDE4OT...</td>\n",
       "    </tr>\n",
       "  </tbody>\n",
       "</table>\n",
       "</div>"
      ],
      "text/plain": [
       "                                      movie_name release_year category   \n",
       "0                       The Shawshank Redemption         1994        A  \\\n",
       "1                                  The Godfather         1972        A   \n",
       "2                                The Dark Knight         2008       UA   \n",
       "3  The Lord of the Rings: The Return of the King         2003        U   \n",
       "4                               Schindler's List         1993        A   \n",
       "\n",
       "   runtime                                    genre  rating   \n",
       "0      142                      \\nDrama                 9.3  \\\n",
       "1      175               \\nCrime, Drama                 9.2   \n",
       "2      152       \\nAction, Crime, Drama                 9.0   \n",
       "3      201   \\nAction, Adventure, Drama                 9.0   \n",
       "4      195  \\nBiography, Drama, History                 9.0   \n",
       "\n",
       "               director                                              stars   \n",
       "0        Frank Darabont  ['Tim Robbins', 'Morgan Freeman', 'Bob Gunton'...  \\\n",
       "1  Francis Ford Coppola  ['Marlon Brando', 'Al Pacino', 'James Caan', '...   \n",
       "2     Christopher Nolan  ['Christian Bale', 'Heath Ledger', 'Aaron Eckh...   \n",
       "3         Peter Jackson  ['Elijah Wood', 'Viggo Mortensen', 'Ian McKell...   \n",
       "4      Steven Spielberg  ['Liam Neeson', 'Ralph Fiennes', 'Ben Kingsley...   \n",
       "\n",
       "       votes   revenue                                               link  \n",
       "0  2,731,853   $28.34M  https://m.media-amazon.com/images/M/MV5BNDE3OD...  \n",
       "1  1,899,490  $134.97M  https://m.media-amazon.com/images/M/MV5BM2MyNj...  \n",
       "2  2,704,998  $534.86M  https://m.media-amazon.com/images/M/MV5BMTMxNT...  \n",
       "3  1,879,267  $377.85M  https://m.media-amazon.com/images/M/MV5BNzA5ZD...  \n",
       "4  1,379,351   $96.90M  https://m.media-amazon.com/images/M/MV5BNDE4OT...  "
      ]
     },
     "execution_count": 30,
     "metadata": {},
     "output_type": "execute_result"
    }
   ],
   "source": [
    "pd.read_csv(\"imdb_movies_scraped.csv\").head()"
   ]
  },
  {
   "cell_type": "code",
   "execution_count": null,
   "metadata": {},
   "outputs": [],
   "source": []
  }
 ],
 "metadata": {
  "kernelspec": {
   "display_name": "Python 3",
   "language": "python",
   "name": "python3"
  },
  "language_info": {
   "codemirror_mode": {
    "name": "ipython",
    "version": 3
   },
   "file_extension": ".py",
   "mimetype": "text/x-python",
   "name": "python",
   "nbconvert_exporter": "python",
   "pygments_lexer": "ipython3",
   "version": "3.8.5"
  }
 },
 "nbformat": 4,
 "nbformat_minor": 4
}
